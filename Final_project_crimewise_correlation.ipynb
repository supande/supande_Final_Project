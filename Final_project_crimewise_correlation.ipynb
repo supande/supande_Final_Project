{
 "cells": [
  {
   "cell_type": "code",
   "execution_count": 104,
   "id": "de48ab80-148b-4140-857c-8ef5b7d89ea6",
   "metadata": {},
   "outputs": [
    {
     "name": "stdout",
     "output_type": "stream",
     "text": [
      "MURDER & NON-NEGL. MANSLAUGHTER correlation with covid : -0.176\n",
      "PETIT LARCENY correlation with covid : -0.475\n",
      "FORGERY correlation with covid : 0.249\n",
      "ROBBERY correlation with covid : -0.337\n",
      "HARRASSMENT 2 correlation with covid : -0.651\n",
      "DANGEROUS WEAPONS correlation with covid : -0.024\n",
      "FELONY ASSAULT correlation with covid : -0.531\n",
      "THEFT-FRAUD correlation with covid : -0.131\n",
      "CRIMINAL TRESPASS correlation with covid : 0.002\n",
      "BURGLARY correlation with covid : -0.060\n",
      "SEX CRIMES correlation with covid : -0.438\n",
      "ARSON correlation with covid : -0.144\n",
      "ASSAULT 3 & RELATED OFFENSES correlation with covid : -0.564\n",
      "GRAND LARCENY correlation with covid : -0.520\n",
      "DANGEROUS DRUGS correlation with covid : -0.014\n",
      "RAPE correlation with covid : -0.228\n",
      "MISCELLANEOUS PENAL LAW correlation with covid : -0.317\n",
      "VEHICLE AND TRAFFIC LAWS correlation with covid : -0.541\n",
      "UNAUTHORIZED USE OF A VEHICLE correlation with covid : -0.075\n",
      "ADMINISTRATIVE CODE correlation with covid : -0.066\n",
      "CRIMINAL MISCHIEF & RELATED OF correlation with covid : -0.384\n",
      "GRAND LARCENY OF MOTOR VEHICLE correlation with covid : -0.350\n",
      "THEFT OF SERVICES correlation with covid : 0.027\n",
      "OTHER OFFENSES RELATED TO THEF correlation with covid : -0.150\n",
      "OFF. AGNST PUB ORD SENSBLTY & correlation with covid : -0.523\n",
      "OFFENSES INVOLVING FRAUD correlation with covid : 0.233\n",
      "POSSESSION OF STOLEN PROPERTY correlation with covid : -0.007\n",
      "OFFENSES AGAINST PUBLIC ADMINI correlation with covid : -0.072\n",
      "NYS LAWS-UNCLASSIFIED FELONY correlation with covid : 0.010\n",
      "BURGLAR'S TOOLS correlation with covid : 0.200\n",
      "FRAUDS correlation with covid : -0.145\n",
      "INTOXICATED & IMPAIRED DRIVING correlation with covid : -0.227\n",
      "OFFENSES AGAINST THE PERSON correlation with covid : -0.164\n",
      "PROSTITUTION & RELATED OFFENSES correlation with covid : -0.071\n",
      "OTHER STATE LAWS (NON PENAL LA correlation with covid : 0.005\n",
      "AGRICULTURE & MRKTS LAW-UNCLASSIFIED correlation with covid : 0.045\n",
      "KIDNAPPING & RELATED OFFENSES correlation with covid : -0.053\n",
      "PETIT LARCENY OF MOTOR VEHICLE correlation with covid : -0.136\n",
      "OFFENSES AGAINST PUBLIC SAFETY correlation with covid : -0.035\n",
      "FORTUNE TELLING correlation with covid : 0.109\n",
      "GAMBLING correlation with covid : -0.045\n",
      "ANTICIPATORY OFFENSES correlation with covid : 0.052\n",
      "ALCOHOLIC BEVERAGE CONTROL LAW correlation with covid : -0.103\n",
      "FELONY SEX CRIMES correlation with covid : -0.019\n",
      "CHILD ABANDONMENT/NON SUPPORT correlation with covid : 0.000\n",
      "DISORDERLY CONDUCT correlation with covid : -0.058\n",
      "OTHER STATE LAWS correlation with covid : -0.053\n",
      "FRAUDULENT ACCOSTING correlation with covid : -0.117\n",
      "HOMICIDE-NEGLIGENT,UNCLASSIFIE correlation with covid : -0.003\n",
      "JOSTLING correlation with covid : -0.044\n",
      "KIDNAPPING correlation with covid : -0.044\n",
      "UNLAWFUL POSS. WEAP. ON SCHOOL correlation with covid : -0.028\n",
      "ESCAPE 3 correlation with covid : -0.087\n",
      "NEW YORK CITY HEALTH CODE correlation with covid : 0.005\n",
      "ENDAN WELFARE INCOMP correlation with covid : -0.024\n",
      "NYS LAWS-UNCLASSIFIED VIOLATION correlation with covid : 0.009\n",
      "HOMICIDE-NEGLIGENT-VEHICLE correlation with covid : -0.026\n",
      "OFFENSES RELATED TO CHILDREN correlation with covid : -0.063\n"
     ]
    }
   ],
   "source": [
    "import pandas as pd\n",
    "from scipy.stats import pearsonr\n",
    "\n",
    "df=pd.read_csv(\"Crime_Grouping.csv\")\n",
    "\n",
    "list1=df['Total Covid Cases']\n",
    "list2=df['MURDER & NON-NEGL. MANSLAUGHTER']\n",
    "corr,_=pearsonr(list1,list2)\n",
    "print('MURDER & NON-NEGL. MANSLAUGHTER correlation with covid : %.3f'%corr)\n",
    "\n",
    "list1=df['Total Covid Cases']\n",
    "list2=df['PETIT LARCENY']\n",
    "corr,_=pearsonr(list1,list2)\n",
    "print('PETIT LARCENY correlation with covid : %.3f'%corr)\n",
    "\n",
    "list1=df['Total Covid Cases']\n",
    "list2=df['FORGERY']\n",
    "corr,_=pearsonr(list1,list2)\n",
    "print('FORGERY correlation with covid : %.3f'%corr)\n",
    "\n",
    "list1=df['Total Covid Cases']\n",
    "list2=df['ROBBERY']\n",
    "corr,_=pearsonr(list1,list2)\n",
    "print('ROBBERY correlation with covid : %.3f'%corr)\n",
    "\n",
    "list1=df['Total Covid Cases']\n",
    "list2=df['HARRASSMENT 2']\n",
    "corr,_=pearsonr(list1,list2)\n",
    "print('HARRASSMENT 2 correlation with covid : %.3f'%corr)\n",
    "\n",
    "list1=df['Total Covid Cases']\n",
    "list2=df['DANGEROUS WEAPONS']\n",
    "corr,_=pearsonr(list1,list2)\n",
    "print('DANGEROUS WEAPONS correlation with covid : %.3f'%corr)\n",
    "\n",
    "list1=df['Total Covid Cases']\n",
    "list2=df['FELONY ASSAULT']\n",
    "corr,_=pearsonr(list1,list2)\n",
    "print('FELONY ASSAULT correlation with covid : %.3f'%corr)\n",
    "\n",
    "list1=df['Total Covid Cases']\n",
    "list2=df['THEFT-FRAUD']\n",
    "corr,_=pearsonr(list1,list2)\n",
    "print('THEFT-FRAUD correlation with covid : %.3f'%corr)\n",
    "\n",
    "list1=df['Total Covid Cases']\n",
    "list2=df['CRIMINAL TRESPASS']\n",
    "corr,_=pearsonr(list1,list2)\n",
    "print('CRIMINAL TRESPASS correlation with covid : %.3f'%corr)\n",
    "\n",
    "list1=df['Total Covid Cases']\n",
    "list2=df['BURGLARY']\n",
    "corr,_=pearsonr(list1,list2)\n",
    "print('BURGLARY correlation with covid : %.3f'%corr)\n",
    "\n",
    "list1=df['Total Covid Cases']\n",
    "list2=df['SEX CRIMES']\n",
    "corr,_=pearsonr(list1,list2)\n",
    "print('SEX CRIMES correlation with covid : %.3f'%corr)\n",
    "\n",
    "list1=df['Total Covid Cases']\n",
    "list2=df['ARSON']\n",
    "corr,_=pearsonr(list1,list2)\n",
    "print('ARSON correlation with covid : %.3f'%corr)\n",
    "\n",
    "list1=df['Total Covid Cases']\n",
    "list2=df['ASSAULT 3 & RELATED OFFENSES']\n",
    "corr,_=pearsonr(list1,list2)\n",
    "print('ASSAULT 3 & RELATED OFFENSES correlation with covid : %.3f'%corr)\n",
    "\n",
    "list1=df['Total Covid Cases']\n",
    "list2=df['GRAND LARCENY']\n",
    "corr,_=pearsonr(list1,list2)\n",
    "print('GRAND LARCENY correlation with covid : %.3f'%corr)\n",
    "\n",
    "list1=df['Total Covid Cases']\n",
    "list2=df['DANGEROUS DRUGS']\n",
    "corr,_=pearsonr(list1,list2)\n",
    "print('DANGEROUS DRUGS correlation with covid : %.3f'%corr)\n",
    "\n",
    "list1=df['Total Covid Cases']\n",
    "list2=df['RAPE']\n",
    "corr,_=pearsonr(list1,list2)\n",
    "print('RAPE correlation with covid : %.3f'%corr)\n",
    "\n",
    "list1=df['Total Covid Cases']\n",
    "list2=df['MISCELLANEOUS PENAL LAW']\n",
    "corr,_=pearsonr(list1,list2)\n",
    "print('MISCELLANEOUS PENAL LAW correlation with covid : %.3f'%corr)\n",
    "\n",
    "list1=df['Total Covid Cases']\n",
    "list2=df['VEHICLE AND TRAFFIC LAWS']\n",
    "corr,_=pearsonr(list1,list2)\n",
    "print('VEHICLE AND TRAFFIC LAWS correlation with covid : %.3f'%corr)\n",
    "\n",
    "list1=df['Total Covid Cases']\n",
    "list2=df['UNAUTHORIZED USE OF A VEHICLE']\n",
    "corr,_=pearsonr(list1,list2)\n",
    "print('UNAUTHORIZED USE OF A VEHICLE correlation with covid : %.3f'%corr)\n",
    "\n",
    "list1=df['Total Covid Cases']\n",
    "list2=df['ADMINISTRATIVE CODE']\n",
    "corr,_=pearsonr(list1,list2)\n",
    "print('ADMINISTRATIVE CODE correlation with covid : %.3f'%corr)\n",
    "\n",
    "list1=df['Total Covid Cases']\n",
    "list2=df['CRIMINAL MISCHIEF & RELATED OF']\n",
    "corr,_=pearsonr(list1,list2)\n",
    "print('CRIMINAL MISCHIEF & RELATED OF correlation with covid : %.3f'%corr)\n",
    "\n",
    "list1=df['Total Covid Cases']\n",
    "list2=df['GRAND LARCENY OF MOTOR VEHICLE']\n",
    "corr,_=pearsonr(list1,list2)\n",
    "print('GRAND LARCENY OF MOTOR VEHICLE correlation with covid : %.3f'%corr)\n",
    "\n",
    "list1=df['Total Covid Cases']\n",
    "list2=df['THEFT OF SERVICES']\n",
    "corr,_=pearsonr(list1,list2)\n",
    "print('THEFT OF SERVICES correlation with covid : %.3f'%corr)\n",
    "\n",
    "list1=df['Total Covid Cases']\n",
    "list2=df['OTHER OFFENSES RELATED TO THEF']\n",
    "corr,_=pearsonr(list1,list2)\n",
    "print('OTHER OFFENSES RELATED TO THEF correlation with covid : %.3f'%corr)\n",
    "\n",
    "list1=df['Total Covid Cases']\n",
    "list2=df['OFF. AGNST PUB ORD SENSBLTY &']\n",
    "corr,_=pearsonr(list1,list2)\n",
    "print('OFF. AGNST PUB ORD SENSBLTY & correlation with covid : %.3f'%corr)\n",
    "\n",
    "list1=df['Total Covid Cases']\n",
    "list2=df['OFFENSES INVOLVING FRAUD']\n",
    "corr,_=pearsonr(list1,list2)\n",
    "print('OFFENSES INVOLVING FRAUD correlation with covid : %.3f'%corr)\n",
    "\n",
    "list1=df['Total Covid Cases']\n",
    "list2=df['POSSESSION OF STOLEN PROPERTY']\n",
    "corr,_=pearsonr(list1,list2)\n",
    "print('POSSESSION OF STOLEN PROPERTY correlation with covid : %.3f'%corr)\n",
    "\n",
    "list1=df['Total Covid Cases']\n",
    "list2=df['OFFENSES AGAINST PUBLIC ADMINI']\n",
    "corr,_=pearsonr(list1,list2)\n",
    "print('OFFENSES AGAINST PUBLIC ADMINI correlation with covid : %.3f'%corr)\n",
    "\n",
    "list1=df['Total Covid Cases']\n",
    "list2=df['NYS LAWS-UNCLASSIFIED FELONY']\n",
    "corr,_=pearsonr(list1,list2)\n",
    "print('NYS LAWS-UNCLASSIFIED FELONY correlation with covid : %.3f'%corr)\n",
    "\n",
    "list1=df['Total Covid Cases']\n",
    "list2=df['BURGLAR\\'S TOOLS']\n",
    "corr,_=pearsonr(list1,list2)\n",
    "print('BURGLAR\\'S TOOLS correlation with covid : %.3f'%corr)\n",
    "\n",
    "list1=df['Total Covid Cases']\n",
    "list2=df['FRAUDS']\n",
    "corr,_=pearsonr(list1,list2)\n",
    "print('FRAUDS correlation with covid : %.3f'%corr)\n",
    "\n",
    "list1=df['Total Covid Cases']\n",
    "list2=df['INTOXICATED & IMPAIRED DRIVING']\n",
    "corr,_=pearsonr(list1,list2)\n",
    "print('INTOXICATED & IMPAIRED DRIVING correlation with covid : %.3f'%corr)\n",
    "\n",
    "list1=df['Total Covid Cases']\n",
    "list2=df['OFFENSES AGAINST THE PERSON']\n",
    "corr,_=pearsonr(list1,list2)\n",
    "print('OFFENSES AGAINST THE PERSON correlation with covid : %.3f'%corr)\n",
    "\n",
    "list1=df['Total Covid Cases']\n",
    "list2=df['PROSTITUTION & RELATED OFFENSES']\n",
    "corr,_=pearsonr(list1,list2)\n",
    "print('PROSTITUTION & RELATED OFFENSES correlation with covid : %.3f'%corr)\n",
    "\n",
    "list1=df['Total Covid Cases']\n",
    "list2=df['OTHER STATE LAWS (NON PENAL LA']\n",
    "corr,_=pearsonr(list1,list2)\n",
    "print('OTHER STATE LAWS (NON PENAL LA correlation with covid : %.3f'%corr)\n",
    "\n",
    "list1=df['Total Covid Cases']\n",
    "list2=df['AGRICULTURE & MRKTS LAW-UNCLASSIFIED']\n",
    "corr,_=pearsonr(list1,list2)\n",
    "print('AGRICULTURE & MRKTS LAW-UNCLASSIFIED correlation with covid : %.3f'%corr)\n",
    "\n",
    "list1=df['Total Covid Cases']\n",
    "list2=df['KIDNAPPING & RELATED OFFENSES']\n",
    "corr,_=pearsonr(list1,list2)\n",
    "print('KIDNAPPING & RELATED OFFENSES correlation with covid : %.3f'%corr)\n",
    "\n",
    "list1=df['Total Covid Cases']\n",
    "list2=df['PETIT LARCENY OF MOTOR VEHICLE']\n",
    "corr,_=pearsonr(list1,list2)\n",
    "print('PETIT LARCENY OF MOTOR VEHICLE correlation with covid : %.3f'%corr)\n",
    "\n",
    "list1=df['Total Covid Cases']\n",
    "list2=df['OFFENSES AGAINST PUBLIC SAFETY']\n",
    "corr,_=pearsonr(list1,list2)\n",
    "print('OFFENSES AGAINST PUBLIC SAFETY correlation with covid : %.3f'%corr)\n",
    "\n",
    "list1=df['Total Covid Cases']\n",
    "list2=df['FORTUNE TELLING']\n",
    "corr,_=pearsonr(list1,list2)\n",
    "print('FORTUNE TELLING correlation with covid : %.3f'%corr)\n",
    "\n",
    "list1=df['Total Covid Cases']\n",
    "list2=df['GAMBLING']\n",
    "corr,_=pearsonr(list1,list2)\n",
    "print('GAMBLING correlation with covid : %.3f'%corr)\n",
    "\n",
    "list1=df['Total Covid Cases']\n",
    "list2=df['ANTICIPATORY OFFENSES']\n",
    "corr,_=pearsonr(list1,list2)\n",
    "print('ANTICIPATORY OFFENSES correlation with covid : %.3f'%corr)\n",
    "\n",
    "list1=df['Total Covid Cases']\n",
    "list2=df['ALCOHOLIC BEVERAGE CONTROL LAW']\n",
    "corr,_=pearsonr(list1,list2)\n",
    "print('ALCOHOLIC BEVERAGE CONTROL LAW correlation with covid : %.3f'%corr)\n",
    "\n",
    "list1=df['Total Covid Cases']\n",
    "list2=df['FELONY SEX CRIMES']\n",
    "corr,_=pearsonr(list1,list2)\n",
    "print('FELONY SEX CRIMES correlation with covid : %.3f'%corr)\n",
    "\n",
    "list1=df['Total Covid Cases']\n",
    "list2=df['CHILD ABANDONMENT/NON SUPPORT']\n",
    "corr,_=pearsonr(list1,list2)\n",
    "print('CHILD ABANDONMENT/NON SUPPORT correlation with covid : %.3f'%corr)\n",
    "\n",
    "list1=df['Total Covid Cases']\n",
    "list2=df['DISORDERLY CONDUCT']\n",
    "corr,_=pearsonr(list1,list2)\n",
    "print('DISORDERLY CONDUCT correlation with covid : %.3f'%corr)\n",
    "\n",
    "list1=df['Total Covid Cases']\n",
    "list2=df['OTHER STATE LAWS']\n",
    "corr,_=pearsonr(list1,list2)\n",
    "print('OTHER STATE LAWS correlation with covid : %.3f'%corr)\n",
    "\n",
    "list1=df['Total Covid Cases']\n",
    "list2=df['FRAUDULENT ACCOSTING']\n",
    "corr,_=pearsonr(list1,list2)\n",
    "print('FRAUDULENT ACCOSTING correlation with covid : %.3f'%corr)\n",
    "\n",
    "list1=df['Total Covid Cases']\n",
    "list2=df['HOMICIDE-NEGLIGENT,UNCLASSIFIE']\n",
    "corr,_=pearsonr(list1,list2)\n",
    "print('HOMICIDE-NEGLIGENT,UNCLASSIFIE correlation with covid : %.3f'%corr)\n",
    "\n",
    "list1=df['Total Covid Cases']\n",
    "list2=df['JOSTLING']\n",
    "corr,_=pearsonr(list1,list2)\n",
    "print('JOSTLING correlation with covid : %.3f'%corr)\n",
    "\n",
    "list1=df['Total Covid Cases']\n",
    "list2=df['KIDNAPPING']\n",
    "corr,_=pearsonr(list1,list2)\n",
    "print('KIDNAPPING correlation with covid : %.3f'%corr)\n",
    "\n",
    "list1=df['Total Covid Cases']\n",
    "list2=df['UNLAWFUL POSS. WEAP. ON SCHOOL']\n",
    "corr,_=pearsonr(list1,list2)\n",
    "print('UNLAWFUL POSS. WEAP. ON SCHOOL correlation with covid : %.3f'%corr)\n",
    "\n",
    "list1=df['Total Covid Cases']\n",
    "list2=df['ESCAPE 3']\n",
    "corr,_=pearsonr(list1,list2)\n",
    "print('ESCAPE 3 correlation with covid : %.3f'%corr)\n",
    "\n",
    "list1=df['Total Covid Cases']\n",
    "list2=df['NEW YORK CITY HEALTH CODE']\n",
    "corr,_=pearsonr(list1,list2)\n",
    "print('NEW YORK CITY HEALTH CODE correlation with covid : %.3f'%corr)\n",
    "\n",
    "list1=df['Total Covid Cases']\n",
    "list2=df['ENDAN WELFARE INCOMP']\n",
    "corr,_=pearsonr(list1,list2)\n",
    "print('ENDAN WELFARE INCOMP correlation with covid : %.3f'%corr)\n",
    "\n",
    "list1=df['Total Covid Cases']\n",
    "list2=df['NYS LAWS-UNCLASSIFIED VIOLATION']\n",
    "corr,_=pearsonr(list1,list2)\n",
    "print('NYS LAWS-UNCLASSIFIED VIOLATION correlation with covid : %.3f'%corr)\n",
    "\n",
    "list1=df['Total Covid Cases']\n",
    "list2=df['HOMICIDE-NEGLIGENT-VEHICLE']\n",
    "corr,_=pearsonr(list1,list2)\n",
    "print('HOMICIDE-NEGLIGENT-VEHICLE correlation with covid : %.3f'%corr)\n",
    "\n",
    "list1=df['Total Covid Cases']\n",
    "list2=df['OFFENSES RELATED TO CHILDREN']\n",
    "corr,_=pearsonr(list1,list2)\n",
    "print('OFFENSES RELATED TO CHILDREN correlation with covid : %.3f'%corr)\n",
    "\n"
   ]
  },
  {
   "cell_type": "code",
   "execution_count": 3,
   "id": "046dfc32-1a0d-4b3b-912b-ea9de0b16ad7",
   "metadata": {},
   "outputs": [
    {
     "name": "stdout",
     "output_type": "stream",
     "text": [
      "Pearsons correlation: 0.249\n"
     ]
    }
   ],
   "source": [
    "import pandas as pd\n",
    "from scipy.stats import pearsonr\n",
    "\n",
    "df=pd.read_csv(\"Crime_Grouping.csv\")\n",
    "list1=df['Total Covid Cases']\n",
    "list2=df['FORGERY']\n",
    "corr,_=pearsonr(list1,list2)\n",
    "print('Pearsons correlation: %.3f'%corr)"
   ]
  },
  {
   "cell_type": "code",
   "execution_count": 4,
   "id": "f9756058-37d5-4f6e-9d28-b913100c1b57",
   "metadata": {},
   "outputs": [
    {
     "name": "stdout",
     "output_type": "stream",
     "text": [
      "Pearsons correlation: -0.337\n"
     ]
    }
   ],
   "source": [
    "import pandas as pd\n",
    "from scipy.stats import pearsonr\n",
    "\n",
    "df=pd.read_csv(\"Crime_Grouping.csv\")\n",
    "list1=df['Total Covid Cases']\n",
    "list2=df['ROBBERY']\n",
    "corr,_=pearsonr(list1,list2)\n",
    "print('Pearsons correlation: %.3f'%corr)"
   ]
  },
  {
   "cell_type": "code",
   "execution_count": 5,
   "id": "424d48c4-db4f-429c-8196-44fa4b8a8d34",
   "metadata": {},
   "outputs": [
    {
     "name": "stdout",
     "output_type": "stream",
     "text": [
      "Pearsons correlation: -0.651\n"
     ]
    }
   ],
   "source": [
    "import pandas as pd\n",
    "from scipy.stats import pearsonr\n",
    "\n",
    "df=pd.read_csv(\"Crime_Grouping.csv\")\n",
    "list1=df['Total Covid Cases']\n",
    "list2=df['HARRASSMENT 2']\n",
    "corr,_=pearsonr(list1,list2)\n",
    "print('Pearsons correlation: %.3f'%corr)"
   ]
  },
  {
   "cell_type": "code",
   "execution_count": 7,
   "id": "b5b77014-8735-48d5-8ac2-1345e3bc41dd",
   "metadata": {},
   "outputs": [
    {
     "name": "stdout",
     "output_type": "stream",
     "text": [
      "Pearsons correlation: -0.024\n"
     ]
    }
   ],
   "source": [
    "\n",
    "import pandas as pd\n",
    "from scipy.stats import pearsonr\n",
    "\n",
    "df=pd.read_csv(\"Crime_Grouping.csv\")\n",
    "list1=df['Total Covid Cases']\n",
    "list2=df['DANGEROUS WEAPONS']\n",
    "corr,_=pearsonr(list1,list2)\n",
    "print('Pearsons correlation: %.3f'%corr)"
   ]
  },
  {
   "cell_type": "code",
   "execution_count": 8,
   "id": "b94b5d34-548c-4292-943c-6396bbe3c27f",
   "metadata": {},
   "outputs": [
    {
     "name": "stdout",
     "output_type": "stream",
     "text": [
      "Pearsons correlation: -0.531\n"
     ]
    }
   ],
   "source": [
    "\n",
    "import pandas as pd\n",
    "from scipy.stats import pearsonr\n",
    "\n",
    "df=pd.read_csv(\"Crime_Grouping.csv\")\n",
    "list1=df['Total Covid Cases']\n",
    "list2=df['FELONY ASSAULT']\n",
    "corr,_=pearsonr(list1,list2)\n",
    "print('Pearsons correlation: %.3f'%corr)"
   ]
  },
  {
   "cell_type": "code",
   "execution_count": 9,
   "id": "9b06544e-e84f-4989-9bd2-01311b5c3274",
   "metadata": {},
   "outputs": [
    {
     "name": "stdout",
     "output_type": "stream",
     "text": [
      "Pearsons correlation: -0.131\n"
     ]
    }
   ],
   "source": [
    "\n",
    "import pandas as pd\n",
    "from scipy.stats import pearsonr\n",
    "\n",
    "df=pd.read_csv(\"Crime_Grouping.csv\")\n",
    "list1=df['Total Covid Cases']\n",
    "list2=df['THEFT-FRAUD']\n",
    "corr,_=pearsonr(list1,list2)\n",
    "print('Pearsons correlation: %.3f'%corr)"
   ]
  },
  {
   "cell_type": "code",
   "execution_count": 84,
   "id": "c6a25fcf-2e8f-4c15-897a-1ab981def4d5",
   "metadata": {},
   "outputs": [
    {
     "name": "stdout",
     "output_type": "stream",
     "text": [
      "Pearsons correlation: 0.002\n"
     ]
    }
   ],
   "source": [
    "import pandas as pd\n",
    "from scipy.stats import pearsonr\n",
    "\n",
    "df=pd.read_csv(\"Crime_Grouping.csv\")\n",
    "list1=df['Total Covid Cases']\n",
    "list2=df['CRIMINAL TRESPASS']\n",
    "corr,_=pearsonr(list1,list2)\n",
    "print('Pearsons correlation: %.3f'%corr)"
   ]
  },
  {
   "cell_type": "code",
   "execution_count": 83,
   "id": "c0beeb96-03b9-4620-84a9-ccd86787cdc5",
   "metadata": {},
   "outputs": [
    {
     "name": "stdout",
     "output_type": "stream",
     "text": [
      "Empty DataFrame\n",
      "Columns: []\n",
      "Index: []\n",
      "Empty DataFrame\n",
      "Columns: []\n",
      "Index: []\n"
     ]
    }
   ],
   "source": [
    "\n",
    "import pandas as pd,csv\n",
    "from scipy.stats import pearsonr\n",
    "\n",
    "f=open(\"Crime_Grouping.csv\",'r')\n",
    "reader=csv.reader(f)\n",
    "\n",
    "n=0\n",
    "l=[]\n",
    "l1=[]\n",
    "while n<59:\n",
    "    l1.append([])\n",
    "    n+=1\n",
    "#print(obj)\n",
    "\n",
    "n=0\n",
    "for row in reader:\n",
    "    if n==0:\n",
    "        for count in range(2,60):\n",
    "            l.append(row[count])\n",
    "    if n>0:\n",
    "        for  num in range(1,60):\n",
    "            l1[(num-1)].append(row[num])\n",
    "    n+=1\n",
    "\n",
    "\n",
    "n=1\n",
    "while n<60:\n",
    "    l2=[]\n",
    "    l2.append(l1[0])\n",
    "    l2.append(l1[n])\n",
    "    df=pd.DataFrame(l2)\n",
    "    #print(df)\n",
    "    #df.astype(float)\n",
    "    print(df.corr())\n",
    "    n+=1\n",
    "#print(len(l1[0]),len(l1[59]))\n",
    "\n",
    "#d={}\n",
    "#n=0\n",
    "#d['Total Covid Cases']=l1[0]\n",
    "#for i in l:\n",
    "#    d[l[n]]=l1[n+1]\n",
    "#    n+=1\n",
    "#    if n==5:\n",
    "#        break\n",
    "    \n",
    "#print(d)    \n",
    "#f.close()\n",
    "\n",
    "#df=pd.DataFrame(d)\n",
    "#print(df)\n",
    "#print(df.corr())\n",
    "\n",
    "\n",
    "\n",
    "\n",
    "\n",
    "\n",
    "\n",
    "    "
   ]
  },
  {
   "cell_type": "code",
   "execution_count": 85,
   "id": "e748fe33-6d73-4161-a6fd-9bfae624305e",
   "metadata": {},
   "outputs": [
    {
     "name": "stdout",
     "output_type": "stream",
     "text": [
      "Pearsons correlation: -0.060\n"
     ]
    }
   ],
   "source": [
    "import pandas as pd\n",
    "from scipy.stats import pearsonr\n",
    "\n",
    "df=pd.read_csv(\"Crime_Grouping.csv\")\n",
    "list1=df['Total Covid Cases']\n",
    "list2=df['BURGLARY']\n",
    "corr,_=pearsonr(list1,list2)\n",
    "print('Pearsons correlation: %.3f'%corr)"
   ]
  },
  {
   "cell_type": "code",
   "execution_count": 86,
   "id": "b83ea143-d364-4437-8030-730e768de436",
   "metadata": {},
   "outputs": [
    {
     "name": "stdout",
     "output_type": "stream",
     "text": [
      "Pearsons correlation: -0.438\n"
     ]
    }
   ],
   "source": [
    "import pandas as pd\n",
    "from scipy.stats import pearsonr\n",
    "\n",
    "df=pd.read_csv(\"Crime_Grouping.csv\")\n",
    "list1=df['Total Covid Cases']\n",
    "list2=df['SEX CRIMES']\n",
    "corr,_=pearsonr(list1,list2)\n",
    "print('Pearsons correlation: %.3f'%corr)"
   ]
  },
  {
   "cell_type": "code",
   "execution_count": 87,
   "id": "90bde49e-1d82-4bed-aac7-2e728ea084ef",
   "metadata": {},
   "outputs": [
    {
     "name": "stdout",
     "output_type": "stream",
     "text": [
      "Pearsons correlation: -0.144\n"
     ]
    }
   ],
   "source": [
    "import pandas as pd\n",
    "from scipy.stats import pearsonr\n",
    "\n",
    "df=pd.read_csv(\"Crime_Grouping.csv\")\n",
    "list1=df['Total Covid Cases']\n",
    "list2=df['ARSON']\n",
    "corr,_=pearsonr(list1,list2)\n",
    "print('Pearsons correlation: %.3f'%corr)"
   ]
  },
  {
   "cell_type": "code",
   "execution_count": 88,
   "id": "d199baff-0e0d-48ee-b227-27f14f81cf00",
   "metadata": {},
   "outputs": [
    {
     "name": "stdout",
     "output_type": "stream",
     "text": [
      "Pearsons correlation: -0.564\n"
     ]
    }
   ],
   "source": [
    "import pandas as pd\n",
    "from scipy.stats import pearsonr\n",
    "\n",
    "df=pd.read_csv(\"Crime_Grouping.csv\")\n",
    "list1=df['Total Covid Cases']\n",
    "list2=df['ASSAULT 3 & RELATED OFFENSES']\n",
    "corr,_=pearsonr(list1,list2)\n",
    "print('Pearsons correlation: %.3f'%corr)"
   ]
  },
  {
   "cell_type": "code",
   "execution_count": 89,
   "id": "087f4f3e-07b9-43dc-8ccf-8b3f815b0048",
   "metadata": {},
   "outputs": [
    {
     "name": "stdout",
     "output_type": "stream",
     "text": [
      "Pearsons correlation: -0.520\n"
     ]
    }
   ],
   "source": [
    "import pandas as pd\n",
    "from scipy.stats import pearsonr\n",
    "\n",
    "df=pd.read_csv(\"Crime_Grouping.csv\")\n",
    "list1=df['Total Covid Cases']\n",
    "list2=df['GRAND LARCENY']\n",
    "corr,_=pearsonr(list1,list2)\n",
    "print('Pearsons correlation: %.3f'%corr)"
   ]
  },
  {
   "cell_type": "code",
   "execution_count": 90,
   "id": "de08b7fb-27e7-4921-8397-fa51cfccfb0e",
   "metadata": {},
   "outputs": [
    {
     "name": "stdout",
     "output_type": "stream",
     "text": [
      "Pearsons correlation: -0.014\n"
     ]
    }
   ],
   "source": [
    "import pandas as pd\n",
    "from scipy.stats import pearsonr\n",
    "\n",
    "df=pd.read_csv(\"Crime_Grouping.csv\")\n",
    "list1=df['Total Covid Cases']\n",
    "list2=df['DANGEROUS DRUGS']\n",
    "corr,_=pearsonr(list1,list2)\n",
    "print('Pearsons correlation: %.3f'%corr)"
   ]
  },
  {
   "cell_type": "code",
   "execution_count": 91,
   "id": "724d0392-774e-47dc-bb53-3bd685660695",
   "metadata": {},
   "outputs": [
    {
     "name": "stdout",
     "output_type": "stream",
     "text": [
      "Pearsons correlation: -0.228\n"
     ]
    }
   ],
   "source": [
    "import pandas as pd\n",
    "from scipy.stats import pearsonr\n",
    "\n",
    "df=pd.read_csv(\"Crime_Grouping.csv\")\n",
    "list1=df['Total Covid Cases']\n",
    "list2=df['RAPE']\n",
    "corr,_=pearsonr(list1,list2)\n",
    "print('Pearsons correlation: %.3f'%corr)"
   ]
  },
  {
   "cell_type": "code",
   "execution_count": 92,
   "id": "c144f5f6-8103-4524-95e3-36aa30e57ef8",
   "metadata": {},
   "outputs": [
    {
     "name": "stdout",
     "output_type": "stream",
     "text": [
      "Pearsons correlation: -0.317\n"
     ]
    }
   ],
   "source": [
    "import pandas as pd\n",
    "from scipy.stats import pearsonr\n",
    "\n",
    "df=pd.read_csv(\"Crime_Grouping.csv\")\n",
    "list1=df['Total Covid Cases']\n",
    "list2=df['MISCELLANEOUS PENAL LAW']\n",
    "corr,_=pearsonr(list1,list2)\n",
    "print('Pearsons correlation: %.3f'%corr)"
   ]
  },
  {
   "cell_type": "code",
   "execution_count": 93,
   "id": "accb25da-fb6e-4c1d-896d-f4540964b005",
   "metadata": {},
   "outputs": [
    {
     "name": "stdout",
     "output_type": "stream",
     "text": [
      "Pearsons correlation: -0.541\n"
     ]
    }
   ],
   "source": [
    "import pandas as pd\n",
    "from scipy.stats import pearsonr\n",
    "\n",
    "df=pd.read_csv(\"Crime_Grouping.csv\")\n",
    "list1=df['Total Covid Cases']\n",
    "list2=df['VEHICLE AND TRAFFIC LAWS']\n",
    "corr,_=pearsonr(list1,list2)\n",
    "print('Pearsons correlation: %.3f'%corr)"
   ]
  },
  {
   "cell_type": "code",
   "execution_count": 94,
   "id": "af996b5c-f999-40c0-ac2f-1913cc779598",
   "metadata": {},
   "outputs": [
    {
     "name": "stdout",
     "output_type": "stream",
     "text": [
      "Pearsons correlation: -0.075\n"
     ]
    }
   ],
   "source": [
    "import pandas as pd\n",
    "from scipy.stats import pearsonr\n",
    "\n",
    "df=pd.read_csv(\"Crime_Grouping.csv\")\n",
    "list1=df['Total Covid Cases']\n",
    "list2=df['UNAUTHORIZED USE OF A VEHICLE']\n",
    "corr,_=pearsonr(list1,list2)\n",
    "print('Pearsons correlation: %.3f'%corr)"
   ]
  },
  {
   "cell_type": "code",
   "execution_count": 95,
   "id": "8cfa2fb0-d6ea-460e-a409-df88de0243cf",
   "metadata": {},
   "outputs": [
    {
     "name": "stdout",
     "output_type": "stream",
     "text": [
      "Pearsons correlation: -0.066\n"
     ]
    }
   ],
   "source": [
    "import pandas as pd\n",
    "from scipy.stats import pearsonr\n",
    "\n",
    "df=pd.read_csv(\"Crime_Grouping.csv\")\n",
    "list1=df['Total Covid Cases']\n",
    "list2=df['ADMINISTRATIVE CODE']\n",
    "corr,_=pearsonr(list1,list2)\n",
    "print('Pearsons correlation: %.3f'%corr)"
   ]
  },
  {
   "cell_type": "code",
   "execution_count": 96,
   "id": "18565606-94c6-4f22-bf3c-ec87d3861c5a",
   "metadata": {},
   "outputs": [
    {
     "name": "stdout",
     "output_type": "stream",
     "text": [
      "Pearsons correlation: -0.384\n"
     ]
    }
   ],
   "source": [
    "import pandas as pd\n",
    "from scipy.stats import pearsonr\n",
    "\n",
    "df=pd.read_csv(\"Crime_Grouping.csv\")\n",
    "list1=df['Total Covid Cases']\n",
    "list2=df['CRIMINAL MISCHIEF & RELATED OF']\n",
    "corr,_=pearsonr(list1,list2)\n",
    "print('Pearsons correlation: %.3f'%corr)"
   ]
  },
  {
   "cell_type": "code",
   "execution_count": 97,
   "id": "0c45c59d-8e76-432f-bc99-8e8b7521aa4b",
   "metadata": {},
   "outputs": [
    {
     "name": "stdout",
     "output_type": "stream",
     "text": [
      "Pearsons correlation: -0.350\n"
     ]
    }
   ],
   "source": [
    "import pandas as pd\n",
    "from scipy.stats import pearsonr\n",
    "\n",
    "df=pd.read_csv(\"Crime_Grouping.csv\")\n",
    "list1=df['Total Covid Cases']\n",
    "list2=df['GRAND LARCENY OF MOTOR VEHICLE']\n",
    "corr,_=pearsonr(list1,list2)\n",
    "print('Pearsons correlation: %.3f'%corr)"
   ]
  },
  {
   "cell_type": "code",
   "execution_count": null,
   "id": "768693fc-62e5-4197-94eb-77c291d18ca8",
   "metadata": {},
   "outputs": [],
   "source": [
    "import pandas as pd\n",
    "from scipy.stats import pearsonr\n",
    "\n",
    "df=pd.read_csv(\"Crime_Grouping.csv\")\n",
    "list1=df['Total Covid Cases']\n",
    "list2=df['GRAND LARCENY OF MOTOR VEHICLE']\n",
    "corr,_=pearsonr(list1,list2)\n",
    "print('Pearsons correlation: %.3f'%corr)"
   ]
  },
  {
   "cell_type": "code",
   "execution_count": null,
   "id": "a4e939c6-3250-41cc-abdc-dc1ad6221c95",
   "metadata": {},
   "outputs": [],
   "source": [
    "import pandas as pd\n",
    "from scipy.stats import pearsonr\n",
    "\n",
    "df=pd.read_csv(\"Crime_Grouping.csv\")\n",
    "list1=df['Total Covid Cases']\n",
    "list2=df['GRAND LARCENY OF MOTOR VEHICLE']\n",
    "corr,_=pearsonr(list1,list2)\n",
    "print('Pearsons correlation: %.3f'%corr)"
   ]
  },
  {
   "cell_type": "code",
   "execution_count": null,
   "id": "4aaeaa3c-9db2-40eb-a1d1-2d97ec1ddb7d",
   "metadata": {},
   "outputs": [],
   "source": [
    "import pandas as pd\n",
    "from scipy.stats import pearsonr\n",
    "\n",
    "df=pd.read_csv(\"Crime_Grouping.csv\")\n",
    "list1=df['Total Covid Cases']\n",
    "list2=df['GRAND LARCENY OF MOTOR VEHICLE']\n",
    "corr,_=pearsonr(list1,list2)\n",
    "print('Pearsons correlation: %.3f'%corr)"
   ]
  },
  {
   "cell_type": "code",
   "execution_count": null,
   "id": "b1f2d017-8e22-487f-a3a7-e79e04cfc2d3",
   "metadata": {},
   "outputs": [],
   "source": [
    "import pandas as pd\n",
    "from scipy.stats import pearsonr\n",
    "\n",
    "df=pd.read_csv(\"Crime_Grouping.csv\")\n",
    "list1=df['Total Covid Cases']\n",
    "list2=df['GRAND LARCENY OF MOTOR VEHICLE']\n",
    "corr,_=pearsonr(list1,list2)\n",
    "print('Pearsons correlation: %.3f'%corr)"
   ]
  },
  {
   "cell_type": "code",
   "execution_count": null,
   "id": "4ba5d60f-f9fe-4ccb-bdb8-fa6bf122e840",
   "metadata": {},
   "outputs": [],
   "source": [
    "import pandas as pd\n",
    "from scipy.stats import pearsonr\n",
    "\n",
    "df=pd.read_csv(\"Crime_Grouping.csv\")\n",
    "list1=df['Total Covid Cases']\n",
    "list2=df['GRAND LARCENY OF MOTOR VEHICLE']\n",
    "corr,_=pearsonr(list1,list2)\n",
    "print('Pearsons correlation: %.3f'%corr)"
   ]
  },
  {
   "cell_type": "code",
   "execution_count": null,
   "id": "4b9eef71-88d6-443a-8770-3127eb04c42f",
   "metadata": {},
   "outputs": [],
   "source": []
  },
  {
   "cell_type": "code",
   "execution_count": null,
   "id": "cfb5f38b-9139-4f1d-a53d-00047f51b5d1",
   "metadata": {},
   "outputs": [],
   "source": []
  },
  {
   "cell_type": "code",
   "execution_count": null,
   "id": "6341cf97-0af6-4aac-ba4a-f2d7b237089d",
   "metadata": {},
   "outputs": [],
   "source": []
  },
  {
   "cell_type": "code",
   "execution_count": null,
   "id": "35341809-086c-44a0-9366-ef03a7b80702",
   "metadata": {},
   "outputs": [],
   "source": []
  },
  {
   "cell_type": "code",
   "execution_count": null,
   "id": "70ee342b-ce00-4b88-af87-34639cdc34e7",
   "metadata": {},
   "outputs": [],
   "source": []
  },
  {
   "cell_type": "code",
   "execution_count": null,
   "id": "aeaa1db9-214f-4b8d-8bb1-a230b47cec28",
   "metadata": {},
   "outputs": [],
   "source": []
  },
  {
   "cell_type": "code",
   "execution_count": null,
   "id": "93d15d16-d550-4a30-a401-693c4e1ca042",
   "metadata": {},
   "outputs": [],
   "source": []
  },
  {
   "cell_type": "code",
   "execution_count": null,
   "id": "8f608cb2-bd42-422e-adea-2f68e7192f81",
   "metadata": {},
   "outputs": [],
   "source": []
  },
  {
   "cell_type": "code",
   "execution_count": null,
   "id": "7f2f603e-eb39-4fdb-aab6-4fd550ee49aa",
   "metadata": {},
   "outputs": [],
   "source": []
  },
  {
   "cell_type": "code",
   "execution_count": null,
   "id": "3d276479-b236-4812-8a0f-ad6ebf352edd",
   "metadata": {},
   "outputs": [],
   "source": []
  },
  {
   "cell_type": "code",
   "execution_count": null,
   "id": "b7d44808-bf0d-4fa3-8971-c229a9558cce",
   "metadata": {},
   "outputs": [],
   "source": []
  },
  {
   "cell_type": "code",
   "execution_count": null,
   "id": "2b8d7365-5f0f-485b-b89f-9f2fc6e49072",
   "metadata": {},
   "outputs": [],
   "source": []
  },
  {
   "cell_type": "code",
   "execution_count": null,
   "id": "0ad03066-798a-434b-80be-fe1592cb1913",
   "metadata": {},
   "outputs": [],
   "source": []
  },
  {
   "cell_type": "code",
   "execution_count": null,
   "id": "dd13bbb5-3f0d-40bb-9499-33daa13beca4",
   "metadata": {},
   "outputs": [],
   "source": []
  },
  {
   "cell_type": "code",
   "execution_count": null,
   "id": "814717ae-48f9-4935-8ee4-8346f0229e8d",
   "metadata": {},
   "outputs": [],
   "source": []
  },
  {
   "cell_type": "code",
   "execution_count": null,
   "id": "88a49a51-4c2b-46d2-ab6e-02d1458da4fa",
   "metadata": {},
   "outputs": [],
   "source": []
  },
  {
   "cell_type": "code",
   "execution_count": null,
   "id": "d7bc0e27-2f5c-4cd7-b131-d2673c6f36b0",
   "metadata": {},
   "outputs": [],
   "source": []
  },
  {
   "cell_type": "code",
   "execution_count": null,
   "id": "6c1261ee-436f-45fb-8bc8-81cbf01691be",
   "metadata": {},
   "outputs": [],
   "source": []
  },
  {
   "cell_type": "code",
   "execution_count": null,
   "id": "ae6bee7b-3ed9-4994-b1e2-72d2026e4b2d",
   "metadata": {},
   "outputs": [],
   "source": []
  },
  {
   "cell_type": "code",
   "execution_count": null,
   "id": "3eb1d8f1-89af-4a24-a88f-9a8b2ec3a6a5",
   "metadata": {},
   "outputs": [],
   "source": []
  },
  {
   "cell_type": "code",
   "execution_count": null,
   "id": "b697bfe0-47dc-4bbb-9c4d-be64465a2125",
   "metadata": {},
   "outputs": [],
   "source": []
  },
  {
   "cell_type": "code",
   "execution_count": null,
   "id": "bced6de5-8c3e-454e-ab1c-03f9ed8929b1",
   "metadata": {},
   "outputs": [],
   "source": []
  },
  {
   "cell_type": "code",
   "execution_count": null,
   "id": "3c440b4a-d985-4cd6-984a-cfb2f2cba25b",
   "metadata": {},
   "outputs": [],
   "source": []
  },
  {
   "cell_type": "code",
   "execution_count": null,
   "id": "3136ed50-5221-402d-a736-90f429d4eed3",
   "metadata": {},
   "outputs": [],
   "source": []
  },
  {
   "cell_type": "code",
   "execution_count": null,
   "id": "55948660-bdac-462c-ad01-6069cbfcb0bc",
   "metadata": {},
   "outputs": [],
   "source": []
  },
  {
   "cell_type": "code",
   "execution_count": null,
   "id": "9d20a99f-bdc8-43b6-be8c-59f7ef0ca5fe",
   "metadata": {},
   "outputs": [],
   "source": []
  },
  {
   "cell_type": "code",
   "execution_count": null,
   "id": "046e5aa3-e23f-4491-bf35-c8e3754b9def",
   "metadata": {},
   "outputs": [],
   "source": []
  },
  {
   "cell_type": "code",
   "execution_count": null,
   "id": "f3f3cdcd-222a-45ed-91a1-66a10ed8af03",
   "metadata": {},
   "outputs": [],
   "source": []
  },
  {
   "cell_type": "code",
   "execution_count": null,
   "id": "c815841e-4294-4d8a-a24c-ca34dcd1b848",
   "metadata": {},
   "outputs": [],
   "source": []
  },
  {
   "cell_type": "code",
   "execution_count": null,
   "id": "cd7b250b-ccd2-46c0-94bc-f78410aff4dd",
   "metadata": {},
   "outputs": [],
   "source": []
  },
  {
   "cell_type": "code",
   "execution_count": null,
   "id": "400737e2-6106-4fc4-bf69-a785e687e6bd",
   "metadata": {},
   "outputs": [],
   "source": []
  }
 ],
 "metadata": {
  "kernelspec": {
   "display_name": "Python 3 (ipykernel)",
   "language": "python",
   "name": "python3"
  },
  "language_info": {
   "codemirror_mode": {
    "name": "ipython",
    "version": 3
   },
   "file_extension": ".py",
   "mimetype": "text/x-python",
   "name": "python",
   "nbconvert_exporter": "python",
   "pygments_lexer": "ipython3",
   "version": "3.10.0"
  }
 },
 "nbformat": 4,
 "nbformat_minor": 5
}
